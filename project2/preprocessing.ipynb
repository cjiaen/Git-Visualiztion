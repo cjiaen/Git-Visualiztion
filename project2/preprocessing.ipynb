{
 "cells": [
  {
   "cell_type": "code",
   "execution_count": 2,
   "metadata": {
    "collapsed": true
   },
   "outputs": [],
   "source": [
    "import pandas as pd\n",
    "import json\n",
    "import gzip"
   ]
  },
  {
   "cell_type": "code",
   "execution_count": 11,
   "metadata": {},
   "outputs": [
    {
     "data": {
      "text/plain": [
       "b'{\"authors\":[{\"ids\":[\"4888852\"],\"name\":\"Andrea D. Foebel\"},{\"ids\":[\"3325893\"],\"name\":\"John P. Hirdes\"'"
      ]
     },
     "execution_count": 11,
     "metadata": {},
     "output_type": "execute_result"
    }
   ],
   "source": [
    "with gzip.open(\"papers-2017-10-30-sample.json.gz\", 'r') as f:\n",
    "    content_bytes = f.read()\n",
    "content_bytes[:100]\n",
    "#content = content_bytes.decode(\"utf-8\")\n",
    "#output = json.loads(content)\n",
    "\n",
    "#table = []\n",
    "#for line in content:\n",
    "#    table.append(json.loads(line))"
   ]
  },
  {
   "cell_type": "code",
   "execution_count": null,
   "metadata": {
    "collapsed": true
   },
   "outputs": [],
   "source": []
  }
 ],
 "metadata": {
  "kernelspec": {
   "display_name": "Python 3",
   "language": "python",
   "name": "python3"
  },
  "language_info": {
   "codemirror_mode": {
    "name": "ipython",
    "version": 3
   },
   "file_extension": ".py",
   "mimetype": "text/x-python",
   "name": "python",
   "nbconvert_exporter": "python",
   "pygments_lexer": "ipython3",
   "version": "3.6.1"
  }
 },
 "nbformat": 4,
 "nbformat_minor": 2
}
