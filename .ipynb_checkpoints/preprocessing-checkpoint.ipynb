{
 "cells": [
  {
   "cell_type": "code",
   "execution_count": null,
   "metadata": {
    "collapsed": true
   },
   "outputs": [],
   "source": [
    "import pandas as pd\n",
    "import numpy as np\n",
    "import json"
   ]
  },
  {
   "cell_type": "code",
   "execution_count": null,
   "metadata": {
    "collapsed": true
   },
   "outputs": [],
   "source": [
    "#read in data\n",
    "filepath = \"data_q1.json\"\n",
    "data = json.load(open(filepath))\n",
    "#data"
   ]
  },
  {
   "cell_type": "code",
   "execution_count": null,
   "metadata": {
    "collapsed": true
   },
   "outputs": [],
   "source": [
    "output = pd.DataFrame(index=range(52), columns = [\"total\",\"owner\", \"others\"])\n",
    "output.loc[:,\"total\"] = data['all']\n",
    "output.loc[:,\"owner\"] = data['owner']\n",
    "output.loc[:,\"others\"] = output.loc[:,\"total\"] - output.loc[:,\"owner\"]\n",
    "output = output.sort_index(0, ascending = False)\n",
    "\n",
    "output.to_csv(\"qn1_rawdata.csv\", index = True)"
   ]
  },
  {
   "cell_type": "code",
   "execution_count": null,
   "metadata": {},
   "outputs": [],
   "source": [
    "#read in data\n",
    "filepath = \"data_q2.json\"\n",
    "data = json.load(open(filepath))\n",
    "\n",
    "total_rows = len(data)\n",
    "\n",
    "output = pd.DataFrame(index=range(total_rows), columns = [\"day\", \"hour\", \"commits\"])\n",
    "for x in range(total_rows):\n",
    "    for col in range(3):\n",
    "        output.iloc[x,col] = data[x][col]\n",
    "print(output)\n",
    "\n",
    "output.to_csv(\"qn2_rawdata.csv\", index = True)"
   ]
  },
  {
   "cell_type": "code",
   "execution_count": 16,
   "metadata": {},
   "outputs": [],
   "source": [
    "#read in data\n",
    "libdc_path = \"data_q3_libdc-for-dirk.json\"\n",
    "linux_path = \"data_q3_linux.json\"\n",
    "pesconvert_path = \"data_q3_pesconvert.json\"\n",
    "subsurface_path = \"data_q3_subsurface-for-dirk.json\"\n",
    "testtlb_path = \"data_q3_test-tlb.json\"\n",
    "uemacs_path = \"data_q3_uemacs.json\"\n",
    "\n",
    "libdc = json.load(open(libdc_path))\n",
    "linux = json.load(open(linux_path))\n",
    "pesconvert = json.load(open(pesconvert_path))\n",
    "subsurface = json.load(open(subsurface_path))\n",
    "testtlb = json.load(open(testtlb_path))\n",
    "uemacs = json.load(open(uemacs_path))\n",
    "\n",
    "repo_trend = pd.DataFrame(index=range(50), columns=[\"name\",\"language\",\"size\"])\n",
    "\n",
    "repo_list = [libdc, linux, pesconvert, subsurface, testtlb, uemacs]\n",
    "repo_dict = {0:\"libdc\", 1:\"linux\", 2:\"pesconvert\", 3:\"subsurface\", 4:\"testtlb\", 5:\"uemacs\"}\n",
    "repo_dict[0]\n",
    "row_count = 0\n",
    "for i,repo in enumerate(repo_list):\n",
    "    for k,v in repo.items():\n",
    "        repo_trend.iloc[row_count,0] = repo_dict[i]\n",
    "        repo_trend.iloc[row_count,1] = k\n",
    "        repo_trend.iloc[row_count,2] = v\n",
    "        row_count = row_count + 1\n",
    "repo_trend.to_csv(\"qn3_rawdata.csv\", index=True)"
   ]
  },
  {
   "cell_type": "code",
   "execution_count": null,
   "metadata": {
    "collapsed": true
   },
   "outputs": [],
   "source": []
  }
 ],
 "metadata": {
  "kernelspec": {
   "display_name": "Python 3",
   "language": "python",
   "name": "python3"
  },
  "language_info": {
   "codemirror_mode": {
    "name": "ipython",
    "version": 3
   },
   "file_extension": ".py",
   "mimetype": "text/x-python",
   "name": "python",
   "nbconvert_exporter": "python",
   "pygments_lexer": "ipython3",
   "version": "3.6.1"
  }
 },
 "nbformat": 4,
 "nbformat_minor": 2
}
